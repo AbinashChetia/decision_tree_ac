{
 "cells": [
  {
   "cell_type": "code",
   "execution_count": 1,
   "metadata": {},
   "outputs": [],
   "source": [
    "import pandas as pd\n",
    "import numpy as np\n",
    "import matplotlib.pyplot as plt\n",
    "\n",
    "from DecTreeAC.decTreeAC import DecisionTreeAC\n",
    "import DecTreeAC.utilsAC as utilsAC"
   ]
  },
  {
   "cell_type": "markdown",
   "metadata": {},
   "source": [
    "### Data 1"
   ]
  },
  {
   "cell_type": "code",
   "execution_count": 2,
   "metadata": {},
   "outputs": [
    {
     "name": "stdout",
     "output_type": "stream",
     "text": [
      "(161, 4)\n"
     ]
    },
    {
     "data": {
      "text/html": [
       "<div>\n",
       "<style scoped>\n",
       "    .dataframe tbody tr th:only-of-type {\n",
       "        vertical-align: middle;\n",
       "    }\n",
       "\n",
       "    .dataframe tbody tr th {\n",
       "        vertical-align: top;\n",
       "    }\n",
       "\n",
       "    .dataframe thead th {\n",
       "        text-align: right;\n",
       "    }\n",
       "</style>\n",
       "<table border=\"1\" class=\"dataframe\">\n",
       "  <thead>\n",
       "    <tr style=\"text-align: right;\">\n",
       "      <th></th>\n",
       "      <th>x1</th>\n",
       "      <th>x2</th>\n",
       "      <th>x3</th>\n",
       "      <th>y</th>\n",
       "    </tr>\n",
       "  </thead>\n",
       "  <tbody>\n",
       "    <tr>\n",
       "      <th>0</th>\n",
       "      <td>1</td>\n",
       "      <td>1</td>\n",
       "      <td>1</td>\n",
       "      <td>1</td>\n",
       "    </tr>\n",
       "    <tr>\n",
       "      <th>1</th>\n",
       "      <td>1</td>\n",
       "      <td>1</td>\n",
       "      <td>2</td>\n",
       "      <td>1</td>\n",
       "    </tr>\n",
       "    <tr>\n",
       "      <th>2</th>\n",
       "      <td>1</td>\n",
       "      <td>1</td>\n",
       "      <td>3</td>\n",
       "      <td>1</td>\n",
       "    </tr>\n",
       "    <tr>\n",
       "      <th>3</th>\n",
       "      <td>1</td>\n",
       "      <td>1</td>\n",
       "      <td>5</td>\n",
       "      <td>1</td>\n",
       "    </tr>\n",
       "    <tr>\n",
       "      <th>4</th>\n",
       "      <td>1</td>\n",
       "      <td>1</td>\n",
       "      <td>7</td>\n",
       "      <td>1</td>\n",
       "    </tr>\n",
       "  </tbody>\n",
       "</table>\n",
       "</div>"
      ],
      "text/plain": [
       "   x1  x2  x3  y\n",
       "0   1   1   1  1\n",
       "1   1   1   2  1\n",
       "2   1   1   3  1\n",
       "3   1   1   5  1\n",
       "4   1   1   7  1"
      ]
     },
     "execution_count": 2,
     "metadata": {},
     "output_type": "execute_result"
    }
   ],
   "source": [
    "data1 = pd.read_csv('data/data1.csv', header=None)\n",
    "print(data1.shape)\n",
    "data1.columns = ['x1', 'x2', 'x3', 'y']\n",
    "data1.head()"
   ]
  },
  {
   "cell_type": "code",
   "execution_count": 3,
   "metadata": {},
   "outputs": [
    {
     "name": "stdout",
     "output_type": "stream",
     "text": [
      " |-(Root -> Attr x1)\n",
      " |-(1 -> Attr x2)\n",
      " |  |-[1 -> Label 1]\n",
      " |  |-[2 -> Label 1]\n",
      " |  |-(3 -> Attr x3)\n",
      " |  |  |-[1 -> Label -1]\n",
      " |  |  |-[2 -> Label -1]\n",
      " |  |  |-[3 -> Label 1]\n",
      " |  |  |-[4 -> Label 1]\n",
      " |  |  |-[5 -> Label 1]\n",
      " |  |  |-[6 -> Label 1]\n",
      " |  |  |-[7 -> Label 1]\n",
      " |  |-(4 -> Attr x3)\n",
      " |  |  |-[6 -> Label -1]\n",
      " |  |  |-[8 -> Label 1]\n",
      " |  |-[5 -> Label -1]\n",
      " |  |-[7 -> Label -1]\n",
      " |  |-[8 -> Label -1]\n",
      " |-(2 -> Attr x2)\n",
      " |  |-[1 -> Label 1]\n",
      " |  |-[2 -> Label 1]\n",
      " |  |-[3 -> Label 1]\n",
      " |  |-(4 -> Attr x3)\n",
      " |  |  |-[6 -> Label -1]\n",
      " |  |  |-[7 -> Label -1]\n",
      " |  |  |-[8 -> Label 1]\n",
      " |  |-[6 -> Label -1]\n",
      " |  |-[7 -> Label -1]\n",
      " |  |-[8 -> Label -1]\n",
      " |-(3 -> Attr x2)\n",
      " |  |-[1 -> Label 1]\n",
      " |  |-[2 -> Label 1]\n",
      " |  |-(3 -> Attr x3)\n",
      " |  |  |-[4 -> Label -1]\n",
      " |  |  |-[5 -> Label 1]\n",
      " |  |  |-[6 -> Label 1]\n",
      " |  |  |-[8 -> Label 1]\n",
      " |  |-[4 -> Label -1]\n",
      " |  |-[5 -> Label -1]\n",
      " |  |-[8 -> Label -1]\n",
      " |-(4 -> Attr x2)\n",
      " |  |-(1 -> Attr x3)\n",
      " |  |  |-[1 -> Label -1]\n",
      " |  |  |-[4 -> Label 1]\n",
      " |  |  |-[5 -> Label 1]\n",
      " |  |  |-[6 -> Label 1]\n",
      " |  |  |-[7 -> Label 1]\n",
      " |  |-[2 -> Label 1]\n",
      " |  |-(3 -> Attr x3)\n",
      " |  |  |-[3 -> Label -1]\n",
      " |  |  |-[4 -> Label -1]\n",
      " |  |  |-[6 -> Label -1]\n",
      " |  |  |-[7 -> Label 1]\n",
      " |  |  |-[8 -> Label 1]\n",
      " |  |-[4 -> Label -1]\n",
      " |  |-[5 -> Label -1]\n",
      " |  |-[6 -> Label -1]\n",
      " |  |-[7 -> Label -1]\n",
      " |-(5 -> Attr x3)\n",
      " |  |-[1 -> Label -1]\n",
      " |  |-[2 -> Label -1]\n",
      " |  |-[3 -> Label -1]\n",
      " |  |-[4 -> Label -1]\n",
      " |  |-[5 -> Label -1]\n",
      " |  |-[6 -> Label 1]\n",
      " |  |-[7 -> Label -1]\n",
      " |  |-[8 -> Label 1]\n",
      " |-(6 -> Attr x3)\n",
      " |  |-[1 -> Label -1]\n",
      " |  |-[2 -> Label -1]\n",
      " |  |-[3 -> Label -1]\n",
      " |  |-[4 -> Label -1]\n",
      " |  |-[5 -> Label -1]\n",
      " |  |-[6 -> Label -1]\n",
      " |  |-(7 -> Attr x2)\n",
      " |  |  |-[1 -> Label 1]\n",
      " |  |  |-[5 -> Label -1]\n",
      " |  |-[8 -> Label -1]\n",
      " |-[7 -> Label -1]\n",
      " |-[8 -> Label -1]\n"
     ]
    }
   ],
   "source": [
    "data1_x = data1.iloc[:, :-1]\n",
    "data1_y = data1.iloc[:, -1]\n",
    "\n",
    "train1_x, train1_y, test1_x, test1_y = utilsAC.splitTrainTest(data1_x, data1_y, train_ratio=0.8)\n",
    "\n",
    "tree1 = DecisionTreeAC()\n",
    "tree1.fit(data1_x, data1_y)\n",
    "\n",
    "tree1.printTree()"
   ]
  },
  {
   "cell_type": "code",
   "execution_count": 4,
   "metadata": {},
   "outputs": [
    {
     "name": "stdout",
     "output_type": "stream",
     "text": [
      "Accuracy: 1.0\n"
     ]
    }
   ],
   "source": [
    "y_pred1 = tree1.predict(test1_x)\n",
    "print('Accuracy:', utilsAC.get_performance_measure(test1_y.tolist(), y_pred1)['acc'])"
   ]
  },
  {
   "cell_type": "markdown",
   "metadata": {},
   "source": [
    "### Data 2"
   ]
  },
  {
   "cell_type": "code",
   "execution_count": 12,
   "metadata": {},
   "outputs": [
    {
     "name": "stdout",
     "output_type": "stream",
     "text": [
      "(209, 4)\n"
     ]
    },
    {
     "data": {
      "text/html": [
       "<div>\n",
       "<style scoped>\n",
       "    .dataframe tbody tr th:only-of-type {\n",
       "        vertical-align: middle;\n",
       "    }\n",
       "\n",
       "    .dataframe tbody tr th {\n",
       "        vertical-align: top;\n",
       "    }\n",
       "\n",
       "    .dataframe thead th {\n",
       "        text-align: right;\n",
       "    }\n",
       "</style>\n",
       "<table border=\"1\" class=\"dataframe\">\n",
       "  <thead>\n",
       "    <tr style=\"text-align: right;\">\n",
       "      <th></th>\n",
       "      <th>x1</th>\n",
       "      <th>x2</th>\n",
       "      <th>x3</th>\n",
       "      <th>y</th>\n",
       "    </tr>\n",
       "  </thead>\n",
       "  <tbody>\n",
       "    <tr>\n",
       "      <th>0</th>\n",
       "      <td>-48.780</td>\n",
       "      <td>-5.5458</td>\n",
       "      <td>2.4477</td>\n",
       "      <td>-1</td>\n",
       "    </tr>\n",
       "    <tr>\n",
       "      <th>1</th>\n",
       "      <td>-48.612</td>\n",
       "      <td>-39.2840</td>\n",
       "      <td>12.7950</td>\n",
       "      <td>-1</td>\n",
       "    </tr>\n",
       "    <tr>\n",
       "      <th>2</th>\n",
       "      <td>-46.885</td>\n",
       "      <td>-16.0340</td>\n",
       "      <td>-8.8351</td>\n",
       "      <td>1</td>\n",
       "    </tr>\n",
       "    <tr>\n",
       "      <th>3</th>\n",
       "      <td>-46.384</td>\n",
       "      <td>-40.1080</td>\n",
       "      <td>-17.2380</td>\n",
       "      <td>1</td>\n",
       "    </tr>\n",
       "    <tr>\n",
       "      <th>4</th>\n",
       "      <td>-46.007</td>\n",
       "      <td>-19.0540</td>\n",
       "      <td>-17.6810</td>\n",
       "      <td>1</td>\n",
       "    </tr>\n",
       "  </tbody>\n",
       "</table>\n",
       "</div>"
      ],
      "text/plain": [
       "       x1       x2       x3  y\n",
       "0 -48.780  -5.5458   2.4477 -1\n",
       "1 -48.612 -39.2840  12.7950 -1\n",
       "2 -46.885 -16.0340  -8.8351  1\n",
       "3 -46.384 -40.1080 -17.2380  1\n",
       "4 -46.007 -19.0540 -17.6810  1"
      ]
     },
     "execution_count": 12,
     "metadata": {},
     "output_type": "execute_result"
    }
   ],
   "source": [
    "data2 = pd.read_csv('data/data2.csv', header=None)\n",
    "data2.columns = ['x1', 'x2', 'x3', 'y']\n",
    "print(data2.shape)\n",
    "data2.head()"
   ]
  },
  {
   "cell_type": "code",
   "execution_count": 13,
   "metadata": {},
   "outputs": [
    {
     "data": {
      "text/html": [
       "<div>\n",
       "<style scoped>\n",
       "    .dataframe tbody tr th:only-of-type {\n",
       "        vertical-align: middle;\n",
       "    }\n",
       "\n",
       "    .dataframe tbody tr th {\n",
       "        vertical-align: top;\n",
       "    }\n",
       "\n",
       "    .dataframe thead th {\n",
       "        text-align: right;\n",
       "    }\n",
       "</style>\n",
       "<table border=\"1\" class=\"dataframe\">\n",
       "  <thead>\n",
       "    <tr style=\"text-align: right;\">\n",
       "      <th></th>\n",
       "      <th>x1</th>\n",
       "      <th>x2</th>\n",
       "      <th>x3</th>\n",
       "      <th>y</th>\n",
       "    </tr>\n",
       "  </thead>\n",
       "  <tbody>\n",
       "    <tr>\n",
       "      <th>0</th>\n",
       "      <td>0</td>\n",
       "      <td>3</td>\n",
       "      <td>5</td>\n",
       "      <td>-1</td>\n",
       "    </tr>\n",
       "    <tr>\n",
       "      <th>1</th>\n",
       "      <td>0</td>\n",
       "      <td>1</td>\n",
       "      <td>6</td>\n",
       "      <td>-1</td>\n",
       "    </tr>\n",
       "    <tr>\n",
       "      <th>2</th>\n",
       "      <td>0</td>\n",
       "      <td>3</td>\n",
       "      <td>4</td>\n",
       "      <td>1</td>\n",
       "    </tr>\n",
       "    <tr>\n",
       "      <th>3</th>\n",
       "      <td>0</td>\n",
       "      <td>0</td>\n",
       "      <td>3</td>\n",
       "      <td>1</td>\n",
       "    </tr>\n",
       "    <tr>\n",
       "      <th>4</th>\n",
       "      <td>0</td>\n",
       "      <td>2</td>\n",
       "      <td>3</td>\n",
       "      <td>1</td>\n",
       "    </tr>\n",
       "  </tbody>\n",
       "</table>\n",
       "</div>"
      ],
      "text/plain": [
       "   x1  x2  x3  y\n",
       "0   0   3   5 -1\n",
       "1   0   1   6 -1\n",
       "2   0   3   4  1\n",
       "3   0   0   3  1\n",
       "4   0   2   3  1"
      ]
     },
     "execution_count": 13,
     "metadata": {},
     "output_type": "execute_result"
    }
   ],
   "source": [
    "data2_disc = utilsAC.discretize(data2, cols=['x1', 'x2', 'x3'])\n",
    "data2_disc.head()"
   ]
  },
  {
   "cell_type": "code",
   "execution_count": 14,
   "metadata": {},
   "outputs": [
    {
     "ename": "KeyError",
     "evalue": "None",
     "output_type": "error",
     "traceback": [
      "\u001b[0;31m---------------------------------------------------------------------------\u001b[0m",
      "\u001b[0;31mKeyError\u001b[0m                                  Traceback (most recent call last)",
      "File \u001b[0;32m/opt/homebrew/lib/python3.11/site-packages/pandas/core/indexes/base.py:3790\u001b[0m, in \u001b[0;36mIndex.get_loc\u001b[0;34m(self, key)\u001b[0m\n\u001b[1;32m   3789\u001b[0m \u001b[39mtry\u001b[39;00m:\n\u001b[0;32m-> 3790\u001b[0m     \u001b[39mreturn\u001b[39;00m \u001b[39mself\u001b[39;49m\u001b[39m.\u001b[39;49m_engine\u001b[39m.\u001b[39;49mget_loc(casted_key)\n\u001b[1;32m   3791\u001b[0m \u001b[39mexcept\u001b[39;00m \u001b[39mKeyError\u001b[39;00m \u001b[39mas\u001b[39;00m err:\n",
      "File \u001b[0;32mindex.pyx:152\u001b[0m, in \u001b[0;36mpandas._libs.index.IndexEngine.get_loc\u001b[0;34m()\u001b[0m\n",
      "File \u001b[0;32mindex.pyx:181\u001b[0m, in \u001b[0;36mpandas._libs.index.IndexEngine.get_loc\u001b[0;34m()\u001b[0m\n",
      "File \u001b[0;32mpandas/_libs/hashtable_class_helper.pxi:7080\u001b[0m, in \u001b[0;36mpandas._libs.hashtable.PyObjectHashTable.get_item\u001b[0;34m()\u001b[0m\n",
      "File \u001b[0;32mpandas/_libs/hashtable_class_helper.pxi:7088\u001b[0m, in \u001b[0;36mpandas._libs.hashtable.PyObjectHashTable.get_item\u001b[0;34m()\u001b[0m\n",
      "\u001b[0;31mKeyError\u001b[0m: None",
      "\nThe above exception was the direct cause of the following exception:\n",
      "\u001b[0;31mKeyError\u001b[0m                                  Traceback (most recent call last)",
      "\u001b[1;32m/Users/abinashchetia/Desktop/Data_Mining/decision_tree_ac/notebook.ipynb Cell 9\u001b[0m line \u001b[0;36m7\n\u001b[1;32m      <a href='vscode-notebook-cell:/Users/abinashchetia/Desktop/Data_Mining/decision_tree_ac/notebook.ipynb#X10sZmlsZQ%3D%3D?line=3'>4</a>\u001b[0m train2_x, train2_y, test2_x, test2_y \u001b[39m=\u001b[39m utilsAC\u001b[39m.\u001b[39msplitTrainTest(data2_x, data2_y, train_ratio\u001b[39m=\u001b[39m\u001b[39m0.8\u001b[39m)\n\u001b[1;32m      <a href='vscode-notebook-cell:/Users/abinashchetia/Desktop/Data_Mining/decision_tree_ac/notebook.ipynb#X10sZmlsZQ%3D%3D?line=5'>6</a>\u001b[0m tree2 \u001b[39m=\u001b[39m DecisionTreeAC()\n\u001b[0;32m----> <a href='vscode-notebook-cell:/Users/abinashchetia/Desktop/Data_Mining/decision_tree_ac/notebook.ipynb#X10sZmlsZQ%3D%3D?line=6'>7</a>\u001b[0m tree2\u001b[39m.\u001b[39;49mfit(data2_x, data2_y)\n\u001b[1;32m      <a href='vscode-notebook-cell:/Users/abinashchetia/Desktop/Data_Mining/decision_tree_ac/notebook.ipynb#X10sZmlsZQ%3D%3D?line=8'>9</a>\u001b[0m tree2\u001b[39m.\u001b[39mprintTree()\n",
      "File \u001b[0;32m~/Desktop/Data_Mining/decision_tree_ac/DecTreeAC/decTreeAC.py:20\u001b[0m, in \u001b[0;36mDecisionTreeAC.fit\u001b[0;34m(self, X, y)\u001b[0m\n\u001b[1;32m     18\u001b[0m \u001b[39mself\u001b[39m\u001b[39m.\u001b[39mattr \u001b[39m=\u001b[39m X\u001b[39m.\u001b[39mcolumns\n\u001b[1;32m     19\u001b[0m \u001b[39mself\u001b[39m\u001b[39m.\u001b[39mlabel \u001b[39m=\u001b[39m y\n\u001b[0;32m---> 20\u001b[0m \u001b[39mself\u001b[39m\u001b[39m.\u001b[39mroot \u001b[39m=\u001b[39m \u001b[39mself\u001b[39;49m\u001b[39m.\u001b[39;49mbuildTree(X, y)\n",
      "File \u001b[0;32m~/Desktop/Data_Mining/decision_tree_ac/DecTreeAC/decTreeAC.py:33\u001b[0m, in \u001b[0;36mDecisionTreeAC.buildTree\u001b[0;34m(self, X, y)\u001b[0m\n\u001b[1;32m     31\u001b[0m node\u001b[39m.\u001b[39mchildren \u001b[39m=\u001b[39m \u001b[39mself\u001b[39m\u001b[39m.\u001b[39msplitData(X, y, splitAttr)\n\u001b[1;32m     32\u001b[0m \u001b[39mfor\u001b[39;00m k, v \u001b[39min\u001b[39;00m node\u001b[39m.\u001b[39mchildren\u001b[39m.\u001b[39mitems():\n\u001b[0;32m---> 33\u001b[0m     node\u001b[39m.\u001b[39mchildren[k] \u001b[39m=\u001b[39m \u001b[39mself\u001b[39;49m\u001b[39m.\u001b[39;49mbuildTree(v\u001b[39m.\u001b[39;49mdata, v\u001b[39m.\u001b[39;49mlabel)\n\u001b[1;32m     34\u001b[0m \u001b[39mreturn\u001b[39;00m node\n",
      "File \u001b[0;32m~/Desktop/Data_Mining/decision_tree_ac/DecTreeAC/decTreeAC.py:33\u001b[0m, in \u001b[0;36mDecisionTreeAC.buildTree\u001b[0;34m(self, X, y)\u001b[0m\n\u001b[1;32m     31\u001b[0m node\u001b[39m.\u001b[39mchildren \u001b[39m=\u001b[39m \u001b[39mself\u001b[39m\u001b[39m.\u001b[39msplitData(X, y, splitAttr)\n\u001b[1;32m     32\u001b[0m \u001b[39mfor\u001b[39;00m k, v \u001b[39min\u001b[39;00m node\u001b[39m.\u001b[39mchildren\u001b[39m.\u001b[39mitems():\n\u001b[0;32m---> 33\u001b[0m     node\u001b[39m.\u001b[39mchildren[k] \u001b[39m=\u001b[39m \u001b[39mself\u001b[39;49m\u001b[39m.\u001b[39;49mbuildTree(v\u001b[39m.\u001b[39;49mdata, v\u001b[39m.\u001b[39;49mlabel)\n\u001b[1;32m     34\u001b[0m \u001b[39mreturn\u001b[39;00m node\n",
      "File \u001b[0;32m~/Desktop/Data_Mining/decision_tree_ac/DecTreeAC/decTreeAC.py:33\u001b[0m, in \u001b[0;36mDecisionTreeAC.buildTree\u001b[0;34m(self, X, y)\u001b[0m\n\u001b[1;32m     31\u001b[0m node\u001b[39m.\u001b[39mchildren \u001b[39m=\u001b[39m \u001b[39mself\u001b[39m\u001b[39m.\u001b[39msplitData(X, y, splitAttr)\n\u001b[1;32m     32\u001b[0m \u001b[39mfor\u001b[39;00m k, v \u001b[39min\u001b[39;00m node\u001b[39m.\u001b[39mchildren\u001b[39m.\u001b[39mitems():\n\u001b[0;32m---> 33\u001b[0m     node\u001b[39m.\u001b[39mchildren[k] \u001b[39m=\u001b[39m \u001b[39mself\u001b[39;49m\u001b[39m.\u001b[39;49mbuildTree(v\u001b[39m.\u001b[39;49mdata, v\u001b[39m.\u001b[39;49mlabel)\n\u001b[1;32m     34\u001b[0m \u001b[39mreturn\u001b[39;00m node\n",
      "File \u001b[0;32m~/Desktop/Data_Mining/decision_tree_ac/DecTreeAC/decTreeAC.py:31\u001b[0m, in \u001b[0;36mDecisionTreeAC.buildTree\u001b[0;34m(self, X, y)\u001b[0m\n\u001b[1;32m     29\u001b[0m splitAttr \u001b[39m=\u001b[39m \u001b[39mself\u001b[39m\u001b[39m.\u001b[39mget_split_attr(X, y)\n\u001b[1;32m     30\u001b[0m node\u001b[39m.\u001b[39msplitAttr \u001b[39m=\u001b[39m splitAttr\n\u001b[0;32m---> 31\u001b[0m node\u001b[39m.\u001b[39mchildren \u001b[39m=\u001b[39m \u001b[39mself\u001b[39;49m\u001b[39m.\u001b[39;49msplitData(X, y, splitAttr)\n\u001b[1;32m     32\u001b[0m \u001b[39mfor\u001b[39;00m k, v \u001b[39min\u001b[39;00m node\u001b[39m.\u001b[39mchildren\u001b[39m.\u001b[39mitems():\n\u001b[1;32m     33\u001b[0m     node\u001b[39m.\u001b[39mchildren[k] \u001b[39m=\u001b[39m \u001b[39mself\u001b[39m\u001b[39m.\u001b[39mbuildTree(v\u001b[39m.\u001b[39mdata, v\u001b[39m.\u001b[39mlabel)\n",
      "File \u001b[0;32m~/Desktop/Data_Mining/decision_tree_ac/DecTreeAC/decTreeAC.py:63\u001b[0m, in \u001b[0;36mDecisionTreeAC.splitData\u001b[0;34m(self, X, y, splitAttr)\u001b[0m\n\u001b[1;32m     61\u001b[0m \u001b[39mdef\u001b[39;00m \u001b[39msplitData\u001b[39m(\u001b[39mself\u001b[39m, X, y, splitAttr):\n\u001b[1;32m     62\u001b[0m     children \u001b[39m=\u001b[39m {}\n\u001b[0;32m---> 63\u001b[0m     \u001b[39mfor\u001b[39;00m val \u001b[39min\u001b[39;00m np\u001b[39m.\u001b[39munique(X[splitAttr]):\n\u001b[1;32m     64\u001b[0m         children[val] \u001b[39m=\u001b[39m Node(X[X[splitAttr] \u001b[39m==\u001b[39m val]\u001b[39m.\u001b[39mdrop([splitAttr], axis\u001b[39m=\u001b[39m\u001b[39m1\u001b[39m), y[X[splitAttr] \u001b[39m==\u001b[39m val])\n\u001b[1;32m     65\u001b[0m     \u001b[39mreturn\u001b[39;00m children\n",
      "File \u001b[0;32m/opt/homebrew/lib/python3.11/site-packages/pandas/core/frame.py:3896\u001b[0m, in \u001b[0;36mDataFrame.__getitem__\u001b[0;34m(self, key)\u001b[0m\n\u001b[1;32m   3894\u001b[0m \u001b[39mif\u001b[39;00m \u001b[39mself\u001b[39m\u001b[39m.\u001b[39mcolumns\u001b[39m.\u001b[39mnlevels \u001b[39m>\u001b[39m \u001b[39m1\u001b[39m:\n\u001b[1;32m   3895\u001b[0m     \u001b[39mreturn\u001b[39;00m \u001b[39mself\u001b[39m\u001b[39m.\u001b[39m_getitem_multilevel(key)\n\u001b[0;32m-> 3896\u001b[0m indexer \u001b[39m=\u001b[39m \u001b[39mself\u001b[39;49m\u001b[39m.\u001b[39;49mcolumns\u001b[39m.\u001b[39;49mget_loc(key)\n\u001b[1;32m   3897\u001b[0m \u001b[39mif\u001b[39;00m is_integer(indexer):\n\u001b[1;32m   3898\u001b[0m     indexer \u001b[39m=\u001b[39m [indexer]\n",
      "File \u001b[0;32m/opt/homebrew/lib/python3.11/site-packages/pandas/core/indexes/base.py:3797\u001b[0m, in \u001b[0;36mIndex.get_loc\u001b[0;34m(self, key)\u001b[0m\n\u001b[1;32m   3792\u001b[0m     \u001b[39mif\u001b[39;00m \u001b[39misinstance\u001b[39m(casted_key, \u001b[39mslice\u001b[39m) \u001b[39mor\u001b[39;00m (\n\u001b[1;32m   3793\u001b[0m         \u001b[39misinstance\u001b[39m(casted_key, abc\u001b[39m.\u001b[39mIterable)\n\u001b[1;32m   3794\u001b[0m         \u001b[39mand\u001b[39;00m \u001b[39many\u001b[39m(\u001b[39misinstance\u001b[39m(x, \u001b[39mslice\u001b[39m) \u001b[39mfor\u001b[39;00m x \u001b[39min\u001b[39;00m casted_key)\n\u001b[1;32m   3795\u001b[0m     ):\n\u001b[1;32m   3796\u001b[0m         \u001b[39mraise\u001b[39;00m InvalidIndexError(key)\n\u001b[0;32m-> 3797\u001b[0m     \u001b[39mraise\u001b[39;00m \u001b[39mKeyError\u001b[39;00m(key) \u001b[39mfrom\u001b[39;00m \u001b[39merr\u001b[39;00m\n\u001b[1;32m   3798\u001b[0m \u001b[39mexcept\u001b[39;00m \u001b[39mTypeError\u001b[39;00m:\n\u001b[1;32m   3799\u001b[0m     \u001b[39m# If we have a listlike key, _check_indexing_error will raise\u001b[39;00m\n\u001b[1;32m   3800\u001b[0m     \u001b[39m#  InvalidIndexError. Otherwise we fall through and re-raise\u001b[39;00m\n\u001b[1;32m   3801\u001b[0m     \u001b[39m#  the TypeError.\u001b[39;00m\n\u001b[1;32m   3802\u001b[0m     \u001b[39mself\u001b[39m\u001b[39m.\u001b[39m_check_indexing_error(key)\n",
      "\u001b[0;31mKeyError\u001b[0m: None"
     ]
    }
   ],
   "source": [
    "data2_x = data2_disc.iloc[:, :-1]\n",
    "data2_y = data2_disc.iloc[:, -1]\n",
    "\n",
    "train2_x, train2_y, test2_x, test2_y = utilsAC.splitTrainTest(data2_x, data2_y, train_ratio=0.8)\n",
    "\n",
    "tree2 = DecisionTreeAC()\n",
    "tree2.fit(data2_x, data2_y)\n",
    "\n",
    "tree2.printTree()"
   ]
  }
 ],
 "metadata": {
  "kernelspec": {
   "display_name": "Python 3",
   "language": "python",
   "name": "python3"
  },
  "language_info": {
   "codemirror_mode": {
    "name": "ipython",
    "version": 3
   },
   "file_extension": ".py",
   "mimetype": "text/x-python",
   "name": "python",
   "nbconvert_exporter": "python",
   "pygments_lexer": "ipython3",
   "version": "3.11.6"
  }
 },
 "nbformat": 4,
 "nbformat_minor": 2
}
