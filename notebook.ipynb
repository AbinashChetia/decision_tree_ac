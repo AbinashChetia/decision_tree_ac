{
 "cells": [
  {
   "cell_type": "code",
   "execution_count": 1,
   "metadata": {},
   "outputs": [],
   "source": [
    "import pandas as pd\n",
    "import numpy as np\n",
    "import matplotlib.pyplot as plt\n",
    "\n",
    "from DecTreeAC.decTreeAC import DecisionTreeAC\n",
    "import DecTreeAC.utilsAC as utilsAC"
   ]
  },
  {
   "cell_type": "markdown",
   "metadata": {},
   "source": [
    "### Data 1"
   ]
  },
  {
   "cell_type": "code",
   "execution_count": 2,
   "metadata": {},
   "outputs": [
    {
     "name": "stdout",
     "output_type": "stream",
     "text": [
      "(161, 4)\n"
     ]
    },
    {
     "data": {
      "text/html": [
       "<div>\n",
       "<style scoped>\n",
       "    .dataframe tbody tr th:only-of-type {\n",
       "        vertical-align: middle;\n",
       "    }\n",
       "\n",
       "    .dataframe tbody tr th {\n",
       "        vertical-align: top;\n",
       "    }\n",
       "\n",
       "    .dataframe thead th {\n",
       "        text-align: right;\n",
       "    }\n",
       "</style>\n",
       "<table border=\"1\" class=\"dataframe\">\n",
       "  <thead>\n",
       "    <tr style=\"text-align: right;\">\n",
       "      <th></th>\n",
       "      <th>x1</th>\n",
       "      <th>x2</th>\n",
       "      <th>x3</th>\n",
       "      <th>y</th>\n",
       "    </tr>\n",
       "  </thead>\n",
       "  <tbody>\n",
       "    <tr>\n",
       "      <th>0</th>\n",
       "      <td>1</td>\n",
       "      <td>1</td>\n",
       "      <td>1</td>\n",
       "      <td>1</td>\n",
       "    </tr>\n",
       "    <tr>\n",
       "      <th>1</th>\n",
       "      <td>1</td>\n",
       "      <td>1</td>\n",
       "      <td>2</td>\n",
       "      <td>1</td>\n",
       "    </tr>\n",
       "    <tr>\n",
       "      <th>2</th>\n",
       "      <td>1</td>\n",
       "      <td>1</td>\n",
       "      <td>3</td>\n",
       "      <td>1</td>\n",
       "    </tr>\n",
       "    <tr>\n",
       "      <th>3</th>\n",
       "      <td>1</td>\n",
       "      <td>1</td>\n",
       "      <td>5</td>\n",
       "      <td>1</td>\n",
       "    </tr>\n",
       "    <tr>\n",
       "      <th>4</th>\n",
       "      <td>1</td>\n",
       "      <td>1</td>\n",
       "      <td>7</td>\n",
       "      <td>1</td>\n",
       "    </tr>\n",
       "  </tbody>\n",
       "</table>\n",
       "</div>"
      ],
      "text/plain": [
       "   x1  x2  x3  y\n",
       "0   1   1   1  1\n",
       "1   1   1   2  1\n",
       "2   1   1   3  1\n",
       "3   1   1   5  1\n",
       "4   1   1   7  1"
      ]
     },
     "execution_count": 2,
     "metadata": {},
     "output_type": "execute_result"
    }
   ],
   "source": [
    "data1 = pd.read_csv('data/data1.csv', header=None)\n",
    "print(data1.shape)\n",
    "data1.columns = ['x1', 'x2', 'x3', 'y']\n",
    "data1.head()"
   ]
  },
  {
   "cell_type": "code",
   "execution_count": 3,
   "metadata": {},
   "outputs": [
    {
     "name": "stdout",
     "output_type": "stream",
     "text": [
      " |-(Root -> Attr x1)\n",
      " |-(1 -> Attr x2)\n",
      " |  |-[1 -> Label 1]\n",
      " |  |-[2 -> Label 1]\n",
      " |  |-(3 -> Attr x3)\n",
      " |  |  |-[1 -> Label -1]\n",
      " |  |  |-[2 -> Label -1]\n",
      " |  |  |-[3 -> Label 1]\n",
      " |  |  |-[4 -> Label 1]\n",
      " |  |  |-[5 -> Label 1]\n",
      " |  |  |-[6 -> Label 1]\n",
      " |  |  |-[7 -> Label 1]\n",
      " |  |-(4 -> Attr x3)\n",
      " |  |  |-[6 -> Label -1]\n",
      " |  |  |-[8 -> Label 1]\n",
      " |  |-[5 -> Label -1]\n",
      " |  |-[7 -> Label -1]\n",
      " |  |-[8 -> Label -1]\n",
      " |-(2 -> Attr x2)\n",
      " |  |-[1 -> Label 1]\n",
      " |  |-[2 -> Label 1]\n",
      " |  |-[3 -> Label 1]\n",
      " |  |-(4 -> Attr x3)\n",
      " |  |  |-[6 -> Label -1]\n",
      " |  |  |-[7 -> Label -1]\n",
      " |  |  |-[8 -> Label 1]\n",
      " |  |-[6 -> Label -1]\n",
      " |  |-[7 -> Label -1]\n",
      " |  |-[8 -> Label -1]\n",
      " |-(3 -> Attr x2)\n",
      " |  |-[1 -> Label 1]\n",
      " |  |-[2 -> Label 1]\n",
      " |  |-(3 -> Attr x3)\n",
      " |  |  |-[4 -> Label -1]\n",
      " |  |  |-[5 -> Label 1]\n",
      " |  |  |-[6 -> Label 1]\n",
      " |  |  |-[8 -> Label 1]\n",
      " |  |-[4 -> Label -1]\n",
      " |  |-[5 -> Label -1]\n",
      " |  |-[8 -> Label -1]\n",
      " |-(4 -> Attr x2)\n",
      " |  |-(1 -> Attr x3)\n",
      " |  |  |-[1 -> Label -1]\n",
      " |  |  |-[4 -> Label 1]\n",
      " |  |  |-[5 -> Label 1]\n",
      " |  |  |-[6 -> Label 1]\n",
      " |  |  |-[7 -> Label 1]\n",
      " |  |-[2 -> Label 1]\n",
      " |  |-(3 -> Attr x3)\n",
      " |  |  |-[3 -> Label -1]\n",
      " |  |  |-[4 -> Label -1]\n",
      " |  |  |-[6 -> Label -1]\n",
      " |  |  |-[7 -> Label 1]\n",
      " |  |  |-[8 -> Label 1]\n",
      " |  |-[4 -> Label -1]\n",
      " |  |-[5 -> Label -1]\n",
      " |  |-[6 -> Label -1]\n",
      " |  |-[7 -> Label -1]\n",
      " |-(5 -> Attr x3)\n",
      " |  |-[1 -> Label -1]\n",
      " |  |-[2 -> Label -1]\n",
      " |  |-[3 -> Label -1]\n",
      " |  |-[4 -> Label -1]\n",
      " |  |-[5 -> Label -1]\n",
      " |  |-[6 -> Label 1]\n",
      " |  |-[7 -> Label -1]\n",
      " |  |-[8 -> Label 1]\n",
      " |-(6 -> Attr x3)\n",
      " |  |-[1 -> Label -1]\n",
      " |  |-[2 -> Label -1]\n",
      " |  |-[3 -> Label -1]\n",
      " |  |-[4 -> Label -1]\n",
      " |  |-[5 -> Label -1]\n",
      " |  |-[6 -> Label -1]\n",
      " |  |-(7 -> Attr x2)\n",
      " |  |  |-[1 -> Label 1]\n",
      " |  |  |-[5 -> Label -1]\n",
      " |  |-[8 -> Label -1]\n",
      " |-[7 -> Label -1]\n",
      " |-[8 -> Label -1]\n"
     ]
    }
   ],
   "source": [
    "data1_x = data1.iloc[:, :-1]\n",
    "data1_y = data1.iloc[:, -1]\n",
    "\n",
    "train1_x, train1_y, test1_x, test1_y = utilsAC.splitTrainTest(data1_x, data1_y, train_ratio=0.8)\n",
    "\n",
    "tree1 = DecisionTreeAC()\n",
    "tree1.fit(data1_x, data1_y)\n",
    "\n",
    "tree1.printTree()"
   ]
  },
  {
   "cell_type": "code",
   "execution_count": 4,
   "metadata": {},
   "outputs": [
    {
     "name": "stdout",
     "output_type": "stream",
     "text": [
      "Accuracy: 1.0\n"
     ]
    }
   ],
   "source": [
    "y_pred1 = tree1.predict(test1_x)\n",
    "print('Accuracy:', utilsAC.get_performance_measure(test1_y.tolist(), y_pred1)['acc'])"
   ]
  },
  {
   "cell_type": "markdown",
   "metadata": {},
   "source": [
    "### Data 2"
   ]
  },
  {
   "cell_type": "code",
   "execution_count": 12,
   "metadata": {},
   "outputs": [
    {
     "name": "stdout",
     "output_type": "stream",
     "text": [
      "(209, 4)\n"
     ]
    },
    {
     "data": {
      "text/html": [
       "<div>\n",
       "<style scoped>\n",
       "    .dataframe tbody tr th:only-of-type {\n",
       "        vertical-align: middle;\n",
       "    }\n",
       "\n",
       "    .dataframe tbody tr th {\n",
       "        vertical-align: top;\n",
       "    }\n",
       "\n",
       "    .dataframe thead th {\n",
       "        text-align: right;\n",
       "    }\n",
       "</style>\n",
       "<table border=\"1\" class=\"dataframe\">\n",
       "  <thead>\n",
       "    <tr style=\"text-align: right;\">\n",
       "      <th></th>\n",
       "      <th>x1</th>\n",
       "      <th>x2</th>\n",
       "      <th>x3</th>\n",
       "      <th>y</th>\n",
       "    </tr>\n",
       "  </thead>\n",
       "  <tbody>\n",
       "    <tr>\n",
       "      <th>0</th>\n",
       "      <td>-48.780</td>\n",
       "      <td>-5.5458</td>\n",
       "      <td>2.4477</td>\n",
       "      <td>-1</td>\n",
       "    </tr>\n",
       "    <tr>\n",
       "      <th>1</th>\n",
       "      <td>-48.612</td>\n",
       "      <td>-39.2840</td>\n",
       "      <td>12.7950</td>\n",
       "      <td>-1</td>\n",
       "    </tr>\n",
       "    <tr>\n",
       "      <th>2</th>\n",
       "      <td>-46.885</td>\n",
       "      <td>-16.0340</td>\n",
       "      <td>-8.8351</td>\n",
       "      <td>1</td>\n",
       "    </tr>\n",
       "    <tr>\n",
       "      <th>3</th>\n",
       "      <td>-46.384</td>\n",
       "      <td>-40.1080</td>\n",
       "      <td>-17.2380</td>\n",
       "      <td>1</td>\n",
       "    </tr>\n",
       "    <tr>\n",
       "      <th>4</th>\n",
       "      <td>-46.007</td>\n",
       "      <td>-19.0540</td>\n",
       "      <td>-17.6810</td>\n",
       "      <td>1</td>\n",
       "    </tr>\n",
       "  </tbody>\n",
       "</table>\n",
       "</div>"
      ],
      "text/plain": [
       "       x1       x2       x3  y\n",
       "0 -48.780  -5.5458   2.4477 -1\n",
       "1 -48.612 -39.2840  12.7950 -1\n",
       "2 -46.885 -16.0340  -8.8351  1\n",
       "3 -46.384 -40.1080 -17.2380  1\n",
       "4 -46.007 -19.0540 -17.6810  1"
      ]
     },
     "execution_count": 12,
     "metadata": {},
     "output_type": "execute_result"
    }
   ],
   "source": [
    "data2 = pd.read_csv('data/data2.csv', header=None)\n",
    "data2.columns = ['x1', 'x2', 'x3', 'y']\n",
    "print(data2.shape)\n",
    "data2.head()"
   ]
  },
  {
   "cell_type": "code",
   "execution_count": null,
   "metadata": {},
   "outputs": [],
   "source": [
    "data2_disc = utilsAC.discretize(data2, cols=['x1', 'x2', 'x3'])\n",
    "data2_disc.head()"
   ]
  },
  {
   "cell_type": "code",
   "execution_count": null,
   "metadata": {},
   "outputs": [],
   "source": [
    "data2_x = data2_disc.iloc[:, :-1]\n",
    "data2_y = data2_disc.iloc[:, -1]\n",
    "\n",
    "train2_x, train2_y, test2_x, test2_y = utilsAC.splitTrainTest(data2_x, data2_y, train_ratio=0.8)\n",
    "\n",
    "tree2 = DecisionTreeAC()\n",
    "tree2.fit(data2_x, data2_y)\n",
    "\n",
    "tree2.printTree()"
   ]
  }
 ],
 "metadata": {
  "kernelspec": {
   "display_name": "Python 3",
   "language": "python",
   "name": "python3"
  },
  "language_info": {
   "codemirror_mode": {
    "name": "ipython",
    "version": 3
   },
   "file_extension": ".py",
   "mimetype": "text/x-python",
   "name": "python",
   "nbconvert_exporter": "python",
   "pygments_lexer": "ipython3",
   "version": "3.11.6"
  }
 },
 "nbformat": 4,
 "nbformat_minor": 2
}
